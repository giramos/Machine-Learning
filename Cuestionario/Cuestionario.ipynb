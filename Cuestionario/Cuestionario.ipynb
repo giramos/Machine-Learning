{
 "cells": [
  {
   "cell_type": "markdown",
   "id": "c0d3cdd6",
   "metadata": {},
   "source": [
    "# CUESTIONARIO EVALUACIÓN 19/12/2023"
   ]
  },
  {
   "cell_type": "code",
   "execution_count": 18,
   "id": "5c593cd6",
   "metadata": {},
   "outputs": [],
   "source": [
    "import time\n",
    "import matplotlib.pyplot as plt\n",
    "import numpy as np\n",
    "import pandas as pd\n",
    "import tensorflow as tf\n",
    "from sklearn.datasets import load_breast_cancer, make_circles, make_classification\n",
    "from sklearn.metrics import confusion_matrix, classification_report\n",
    "from sklearn.model_selection import train_test_split\n",
    "from sklearn.neighbors import KNeighborsClassifier\n",
    "from sklearn.model_selection import GridSearchCV\n",
    "from sklearn.impute import SimpleImputer\n",
    "from sklearn.preprocessing import StandardScaler\n",
    "from tensorflow.keras.utils import image_dataset_from_directory\n",
    "from tensorflow.keras import layers, models, Input\n",
    "from tensorflow.keras.datasets import imdb, mnist, reuters\n",
    "from tensorflow.keras.layers import Dense, MaxPooling2D, Conv2D, Flatten, Rescaling\n",
    "from tensorflow.keras.models import Sequential\n",
    "from tensorflow.keras.utils import to_categorical\n",
    "from tensorflow.keras import regularizers\n",
    "from keras.optimizers import SGD\n",
    "from keras.utils import plot_model\n",
    "from keras.models import load_model"
   ]
  },
  {
   "cell_type": "markdown",
   "id": "433744d4",
   "metadata": {},
   "source": [
    "# Pregunta 1 (3 puntos)\n",
    "## En este ejercicio se proporciona el conjunto de datos de entrenamiento datos_entrenamiento_ssii.csv sobre el cual ya se han aplicado todas las fases de preprocesamiento necesarias. Utiliza este conjunto de datos para entrenar modelos usando el algoritmo de los vecinos de cercanos probando distintas combinaciones de números de vecinos y distancias. En concreto, prueba todas las posibles combinaciones formadas con los números de vecinos 3, 7, y 11 y las distancias Manhattan y Euclídea. Para cada combinación de parámetros utiliza GridSearchCV para obtener los resultados de la accuracy en validación cruzada empleando 10 cajas. Observa los resultados del modelo entrenado con 3 vecinos y la distancia Manhattan: ¿Cuál es el valor de la accuracy obtenida al validar el modelo utilizando la caja con id 8 y el resto de cajas para entrenar?"
   ]
  },
  {
   "cell_type": "code",
   "execution_count": 16,
   "id": "c32b1a87",
   "metadata": {},
   "outputs": [
    {
     "name": "stdout",
     "output_type": "stream",
     "text": [
      "{'mean_fit_time': array([0.00287445]), 'std_fit_time': array([0.00274287]), 'mean_score_time': array([0.02490363]), 'std_score_time': array([0.03930952]), 'param_n_neighbors': masked_array(data=[3],\n",
      "             mask=[False],\n",
      "       fill_value='?',\n",
      "            dtype=object), 'param_p': masked_array(data=[1],\n",
      "             mask=[False],\n",
      "       fill_value='?',\n",
      "            dtype=object), 'params': [{'n_neighbors': 3, 'p': 1}], 'split0_test_score': array([0.84615385]), 'split1_test_score': array([0.69230769]), 'split2_test_score': array([0.61538462]), 'split3_test_score': array([0.84615385]), 'split4_test_score': array([0.76923077]), 'split5_test_score': array([0.91666667]), 'split6_test_score': array([1.]), 'split7_test_score': array([0.91666667]), 'split8_test_score': array([0.91666667]), 'split9_test_score': array([0.91666667]), 'mean_test_score': array([0.84358974]), 'std_test_score': array([0.11239722]), 'rank_test_score': array([1], dtype=int32)}\n"
     ]
    }
   ],
   "source": [
    "df = pd.read_csv('datos_entrenamiento_ssii.csv')\n",
    "\n",
    "X = df.drop('Clase', axis = 1)\n",
    "y = df['Clase']\n",
    "\n",
    "param_grid = {\n",
    "    'n_neighbors': [3],\n",
    "    'p': [1]\n",
    "}\n",
    "\n",
    "model = KNeighborsClassifier()\n",
    "\n",
    "X_train, X_test, y_train, y_test = train_test_split(X, y, test_size=0.2, random_state=42, stratify=y)\n",
    "\n",
    "grid_search = GridSearchCV(model, param_grid, cv=10, scoring='accuracy')\n",
    "\n",
    "grid_search.fit(X, y.values.ravel())\n",
    "\n",
    "print(grid_search.cv_results_)"
   ]
  },
  {
   "cell_type": "markdown",
   "id": "f6d2d7ea",
   "metadata": {},
   "source": [
    "a. 0.92 "
   ]
  },
  {
   "cell_type": "markdown",
   "id": "9714c2ed",
   "metadata": {},
   "source": [
    "# Pregunta 2 (2 puntos)\n",
    "\n",
    "## Considera la siguiente salida de código. Realiza una comparación de los dos modelos obtenidos contestando cuestiones como por ejemplo ¿hay sobreajuste en alguno de ellos?, ¿qué impacto tiene la poda?, ¿sería necesario podar más?, ¿elegirías algún parámetro más, y en caso afirmativo qué otros parámetros y por qué?\n",
    "```\n",
    "## \n",
    "## ÁRBOL SIN PODA\n",
    "\n",
    "## Accuracy train sin poda: 1.00\n",
    "\n",
    "## Accuracy validación cruzada sin poda (media = 0.91)\n",
    "\n",
    "## [0.88 0.96 0.88 0.92 0.92]\n",
    "\n",
    "## Accuracy test sin poda: 0.91\n",
    "\n",
    "## \n",
    "## ÁRBOL CON PODA\n",
    "\n",
    "## Parámetros del árbol (elegidos {'max_depth': 3, 'min_samples_split': 10, 'min_weight_fraction_leaf': 0.0})\n",
    "\n",
    "## Accuracy train con poda: 0.97\n",
    "\n",
    "## Accuracy validación cruzada con poda (media = 0.92)\n",
    "\n",
    "## [0.88, 0.96, 0.92, 0.92, 0.92]\n",
    "\n",
    "## Accuracy test con poda: 0.91\n",
    "\n",
    "## \n",
    "## Árboles resultantes\n",
    "\n",
    "## \n",
    "## ÁRBOL SIN PODA\n",
    "\n",
    "## |--- 3 <= 0.16\n",
    "## |   |--- 18 <= -1.42\n",
    "## |   |   |--- 3 <= -0.88\n",
    "## |   |   |   |--- class: 0\n",
    "## |   |   |--- 3 >  -0.88\n",
    "## |   |   |   |--- class: 1\n",
    "## |   |--- 18 >  -1.42\n",
    "## |   |   |--- 19 <= -2.32\n",
    "## |   |   |   |--- class: 1\n",
    "## |   |   |--- 19 >  -2.32\n",
    "## |   |   |   |--- 6 <= 0.99\n",
    "## |   |   |   |   |--- class: 0\n",
    "## |   |   |   |--- 6 >  0.99\n",
    "## |   |   |   |   |--- 13 <= -0.68\n",
    "## |   |   |   |   |   |--- class: 1\n",
    "## |   |   |   |   |--- 13 >  -0.68\n",
    "## |   |   |   |   |   |--- class: 0\n",
    "## |--- 3 >  0.16\n",
    "## |   |--- 7 <= 1.97\n",
    "## |   |   |--- class: 1\n",
    "## |   |--- 7 >  1.97\n",
    "## |   |   |--- class: 0\n",
    "\n",
    "## \n",
    "## ÁRBOL CON PODA\n",
    "\n",
    "## |--- 3 <= 0.16\n",
    "## |   |--- 18 <= -1.42\n",
    "## |   |   |--- class: 1\n",
    "## |   |--- 18 >  -1.42\n",
    "## |   |   |--- 19 <= -2.32\n",
    "## |   |   |   |--- class: 1\n",
    "## |   |   |--- 19 >  -2.32\n",
    "## |   |   |   |--- class: 0\n",
    "## |--- 3 >  0.16\n",
    "## |   |--- 4 <= 2.14\n",
    "## |   |   |--- class: 1\n",
    "## |   |--- 4 >  2.14\n",
    "## |   |   |--- class: 0\n",
    "```"
   ]
  },
  {
   "cell_type": "markdown",
   "id": "7fe8b630",
   "metadata": {},
   "source": [
    "## ¿Hay sobreajuste en alguno de ellos?\n",
    "\n",
    "Ambos modelos presentan sobreajuste, siendo el primero (árbol sin poda), el que más sobreajuste presenta, esto se puede observar al comprobar como la accuracy en el conjunto de entrenamiento es superior a la obtenida en el conjunto de validación.\n",
    "\n",
    "> Accuracy train sin poda: 1.00 > Accuracy test sin poda: 0.91\n",
    "> Accuracy train con poda: 0.97 > Accuracy test con poda: 0.91\n",
    "\n",
    "## ¿Qué impacto tiene la poda?\n",
    "\n",
    "Generaliza más el árbol, reduciendo su profundidad. Cabe mencionar, que también reduce el sobreajuste tal y como se ha comentado antes, algo que se puede ver en la accuracy de entrenamiento y en la de validación cruzada.\n",
    "\n",
    "> Accuracy train sin poda: 1.00 > Accuracy train con poda: 0.97\n",
    "> Accuracy validación cruzada sin poda (media = 0.91) < Accuracy validación cruzada con poda (media = 0.92)\n",
    "\n",
    "## ¿Sería necesario podar más?\n",
    "\n",
    "No, para obtener mejores resultados sería recomendable probar otras técnicas, ya que al podar más resultaría en un descenso de la accuracy.\n",
    "\n",
    "## ¿Elegirías algún parámetro más, y en caso afirmativo qué otros parámetros y por qué?\n",
    "\n",
    "Sí, añadiría los siguientes parámetros y probaría con diferentes valores:\n",
    "\n",
    "* ccp_alpha.\n",
    "* min_samples_leaf.\n",
    "* criterion.\n",
    "* max_leaf_nodes.\n",
    "\n",
    "Con estos parámetros y las respectivas variaciones de valores, se buscaría reducir el sobreajuste ya producido."
   ]
  },
  {
   "cell_type": "markdown",
   "id": "9438109f",
   "metadata": {},
   "source": [
    "# Pregunta 3 (2 puntos)\n",
    "## En este ejercicio se proporciona un conjunto de datos definidos por variables numéricas ya divido en un conjunto de entrenamiento datos_entrenamiento_ssii_train.csv y otro de test datos_entrenamiento_ssii_test.csv. Estos datos contienen valores faltantes. Imputa los valores faltantes usando la estrategia median. ¿Cuál es el valor imputado en el conjunto de test en la fila con índice 5 y la columna con índice 3?\n",
    "#### NOTA: El resultado está redondeado a cuatro decimales."
   ]
  },
  {
   "cell_type": "code",
   "execution_count": 20,
   "id": "3d29ee22",
   "metadata": {},
   "outputs": [
    {
     "name": "stdout",
     "output_type": "stream",
     "text": [
      "-0.2863875867089193\n"
     ]
    }
   ],
   "source": [
    "df_train = pd.read_csv('datos_entrenamiento_ssii_train.csv') \n",
    "df_test = pd.read_csv('datos_entrenamiento_ssii_test.csv')\n",
    "imp = SimpleImputer(strategy='median') \n",
    "impX = imp.fit_transform(df_train) \n",
    "impY = imp.transform(df_test)\n",
    "print(impY[5][3])"
   ]
  },
  {
   "cell_type": "markdown",
   "id": "a91bd39c",
   "metadata": {},
   "source": [
    "b. -0.2864 "
   ]
  },
  {
   "cell_type": "markdown",
   "id": "daaec1cf",
   "metadata": {},
   "source": [
    "# Pregunta 4 (1 punto)\n",
    "## Estamos entrenando con un conjunto de imágenes de 28 píxeles de alto y 28 píxeles de ancho. Nuestro modelo tiene una única capa de convolución (además del Input) como la siguiente:\n",
    "\n",
    "### Conv2D(filters=32, kernel_size=3, activation=\"relu\")\n",
    "\n",
    "## La dimensión de salida pasa a ser 26x26, sin embargo, nos interesa que esta se mantenga en 28x28. ¿Qué podemos hacer?\n",
    "\n",
    "#### NOTA: Puede haber más de una respuesta correcta."
   ]
  },
  {
   "cell_type": "code",
   "execution_count": 10,
   "id": "cf003680",
   "metadata": {},
   "outputs": [
    {
     "name": "stdout",
     "output_type": "stream",
     "text": [
      "Model: \"sequential_3\"\n",
      "_________________________________________________________________\n",
      " Layer (type)                Output Shape              Param #   \n",
      "=================================================================\n",
      " conv2d_3 (Conv2D)           (None, 28, 28, 32)        64        \n",
      "                                                                 \n",
      " max_pooling2d (MaxPooling2  (None, 14, 14, 32)        0         \n",
      " D)                                                              \n",
      "                                                                 \n",
      "=================================================================\n",
      "Total params: 64 (256.00 Byte)\n",
      "Trainable params: 64 (256.00 Byte)\n",
      "Non-trainable params: 0 (0.00 Byte)\n",
      "_________________________________________________________________\n"
     ]
    }
   ],
   "source": [
    "model_cnn2 = Sequential()\n",
    "model_cnn2.add(Input(shape=(28, 28, 1)))\n",
    "#model_cnn2.add(Conv2D(filters=32,kernel_size=3,activation=\"relu\"))\n",
    "model_cnn2.add(Conv2D(filters=32, kernel_size=1, activation=\"relu\"))\n",
    "#model_cnn2.add(Conv2D(filters=32,kernel_size=3,activation=\"relu\",strides=(2,2)))\n",
    "#model_cnn2.add(MaxPooling2D(pool_size=2))\n",
    "#model_cnn2.add(Conv2D(filters=32,kernel_size=5,activation=\"relu\"))\n",
    "model_cnn2.summary()"
   ]
  },
  {
   "cell_type": "markdown",
   "id": "ab9e86be",
   "metadata": {},
   "source": [
    "a. Modificar la capa para que use estos argumentos: Conv2D(filters=32, kernel_size=1, activation=\"relu\") "
   ]
  },
  {
   "attachments": {
    "examen_accuracies.png": {
     "image/png": "[encoded data removed]"
    }
   },
   "cell_type": "markdown",
   "id": "69420b54",
   "metadata": {},
   "source": [
    "# Pregunta 5 (2 puntos)\n",
    "## Realiza una comparación de las salidas obtenidas por estos tres modelos de redes neuronales ¿detectas algún comportamiento llamativo?, ¿qué modelo elegirías?\n",
    "![examen_accuracies.png](attachment:examen_accuracies.png)"
   ]
  },
  {
   "cell_type": "markdown",
   "id": "bf499692",
   "metadata": {},
   "source": [
    "## ¿Detectas algún comportamiento llamativo?\n",
    "\n",
    "Con respecto al primer modelo, se puede observar que la accuracy para el conjunto de datos de entrenamiento es 1, pero no converge para el conjunto de validación, indicando así que el modelo está experimentando un sobreajuste.\n",
    "\n",
    "En cambio, pasando al segundo modelo, la accuracy no alcanza el 1 en los datos de entrenamiento, y sí que se aprecia una convergencia para el conjunto de datos de validación.\n",
    "\n",
    "Por último, con respecto al tercer modelo, la accuracy es 1 en el conjunto de datos de entrenamiento, pero no converge en el conjunto de validación, de esta forma, se puede concluir que también experimenta un sobreajuste.\n",
    "\n",
    "## ¿Qué modelo elegirías?\n",
    "\n",
    "En base a lo que se ha mencionado en la pregunta anterior, elegiría el segundo modelo, ya que presenta una mayor probabilidad de obtener mejores resultados para un conjunto de datos distinto al de entrenamiento, al ser el único que no presenta sobreajuste.\n",
    "\n"
   ]
  }
 ],
 "metadata": {
  "kernelspec": {
   "display_name": "Python 3 (ipykernel)",
   "language": "python",
   "name": "python3"
  },
  "language_info": {
   "codemirror_mode": {
    "name": "ipython",
    "version": 3
   },
   "file_extension": ".py",
   "mimetype": "text/x-python",
   "name": "python",
   "nbconvert_exporter": "python",
   "pygments_lexer": "ipython3",
   "version": "3.11.5"
  }
 },
 "nbformat": 4,
 "nbformat_minor": 5
}

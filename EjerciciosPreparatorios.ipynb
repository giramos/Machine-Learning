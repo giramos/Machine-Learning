{
  "nbformat": 4,
  "nbformat_minor": 0,
  "metadata": {
    "colab": {
      "provenance": [],
      "mount_file_id": "1tP3HsDS7PeP_VHD-bZBBqePxgzjQ6jXE",
      "authorship_tag": "ABX9TyOrEzI+gMtzqdzg+17HWIi9",
      "include_colab_link": true
    },
    "kernelspec": {
      "name": "python3",
      "display_name": "Python 3"
    },
    "language_info": {
      "name": "python"
    }
  },
  "cells": [
    {
      "cell_type": "markdown",
      "metadata": {
        "id": "view-in-github",
        "colab_type": "text"
      },
      "source": [
        "<a href=\"https://colab.research.google.com/github/giramos/Machine-Learning/blob/master/EjerciciosPreparatorios.ipynb\" target=\"_parent\"><img src=\"https://colab.research.google.com/assets/colab-badge.svg\" alt=\"Open In Colab\"/></a>"
      ]
    },
    {
      "cell_type": "code",
      "execution_count": null,
      "metadata": {
        "id": "esxzNlFONMvG"
      },
      "outputs": [],
      "source": []
    },
    {
      "cell_type": "markdown",
      "source": [
        "# Preparación Cuestionario 💣\n",
        "Ejercicios propuestos para preparación a un futuro cuestionario. Son ejemplos de lo visto en prácticas\n",
        "\n",
        "## 1. Ejemplo\n",
        "En este ejercicio se proporciona el conjunto de datos de\n",
        "entrenamiento datos_entrenamiento_ssii.csv sobre el cual\n",
        "ya se han aplicado todas las fases de preprocesamiento\n",
        "necesarias. Utiliza este conjunto de datos para entrenar\n",
        "modelos usando el algoritmo de los vecinos de cercanos\n",
        "probando distintas combinaciones de números de vecinos\n",
        "y distancias. En concreto, prueba todas las posibles\n",
        "combinaciones formadas con los números de vecinos 3, 7,\n",
        "y 11 y las distancias Manhattan y Euclídea. Para cada\n",
        "combinación de parámetros utiliza GridSearchCV para\n",
        "obtener los resultados de la accuracy en validación cruzada\n",
        "empleando 10 cajas. Observa los resultados del modelo\n",
        "entrenado con 3 vecinos y la distancia Manhattan: ¿Cuál es\n",
        "el valor de la accuracy obtenida al validar el modelo\n",
        "utilizando la caja con id 8 y el resto de cajas para entrenar?"
      ],
      "metadata": {
        "id": "IrSTn7gvNSY0"
      }
    },
    {
      "cell_type": "markdown",
      "source": [
        "**ChatGPT Solución**"
      ],
      "metadata": {
        "id": "SKTSF6q4kCyN"
      }
    },
    {
      "cell_type": "code",
      "source": [
        "# Importar librerías necesarias\n",
        "import pandas as pd\n",
        "from sklearn.model_selection import StratifiedKFold, cross_val_score, GridSearchCV\n",
        "from sklearn.neighbors import KNeighborsClassifier\n",
        "from sklearn.metrics import accuracy_score\n",
        "from sklearn.pipeline import Pipeline\n",
        "\n",
        "# Cargar los datos (se asume que el dataset está preprocesado y listo para usar)\n",
        "df = pd.read_csv('/content/drive/MyDrive/Colab Notebooks/datasets/datos_entrenamiento_ssii (1).csv')\n",
        "\n",
        "# Separar las variables predictoras (X) y las etiquetas (y)\n",
        "#X = df.drop(columns=[\"Etiqueta\"])  # Reemplaza \"Etiqueta\" con el nombre de la columna de etiquetas\n",
        "#y = df[\"Etiqueta\"]\n",
        "X = df.drop(columns=[\"Clase\"])  # Reemplaza \"Etiqueta\" con el nombre de la columna de etiquetas\n",
        "y = df[\"Clase\"]\n",
        "\n",
        "# Configuración de parámetros para KNN\n",
        "param_grid = {\n",
        "    \"n_neighbors\": [3, 7, 11],\n",
        "    \"metric\": [\"manhattan\", \"euclidean\"]\n",
        "}\n",
        "\n",
        "# Crear el modelo\n",
        "knn = KNeighborsClassifier()\n",
        "\n",
        "# Configurar GridSearchCV con validación cruzada de 10 folds\n",
        "cv = StratifiedKFold(n_splits=10, shuffle=True, random_state=42)\n",
        "grid_search = GridSearchCV(knn, param_grid, cv=cv, scoring=\"accuracy\", return_train_score=True)\n",
        "\n",
        "# Entrenar y realizar validación cruzada\n",
        "grid_search.fit(X, y)\n",
        "\n",
        "# Mostrar los resultados generales del GridSearchCV\n",
        "results = pd.DataFrame(grid_search.cv_results_)\n",
        "print(\"Resultados de GridSearchCV:\")\n",
        "print(results[[\"param_n_neighbors\", \"param_metric\", \"mean_test_score\", \"std_test_score\"]])\n",
        "\n",
        "# Analizar el modelo con 3 vecinos y distancia Manhattan\n",
        "specific_model = results[\n",
        "    (results[\"param_n_neighbors\"] == 3) & (results[\"param_metric\"] == \"manhattan\")\n",
        "]\n",
        "\n",
        "# Mostrar las métricas de validación cruzada\n",
        "print(\"\\nResultados del modelo con 3 vecinos y distancia Manhattan:\")\n",
        "print(specific_model[[\"mean_test_score\", \"std_test_score\"]])\n",
        "\n",
        "# Extraer resultados por fold usando StratifiedKFold\n",
        "cv_split = StratifiedKFold(n_splits=10, shuffle=True, random_state=42)\n",
        "accuracy_fold = []\n",
        "\n",
        "for train_index, test_index in cv_split.split(X, y):\n",
        "    X_train, X_test = X.iloc[train_index], X.iloc[test_index]\n",
        "    y_train, y_test = y.iloc[train_index], y.iloc[test_index]\n",
        "\n",
        "    # Entrenar con los datos de entrenamiento\n",
        "    model = KNeighborsClassifier(n_neighbors=3, metric=\"manhattan\")\n",
        "    model.fit(X_train, y_train)\n",
        "\n",
        "    # Evaluar con los datos de test (fold específico)\n",
        "    y_pred = model.predict(X_test)\n",
        "    accuracy = accuracy_score(y_test, y_pred)\n",
        "    accuracy_fold.append(accuracy)\n",
        "\n",
        "# Mostrar el resultado del fold con ID 8\n",
        "print(f\"\\nAccuracy en el fold 8: {accuracy_fold[7]:.4f}\")  # Recordar que los índices comienzan en 0\n"
      ],
      "metadata": {
        "colab": {
          "base_uri": "https://localhost:8080/"
        },
        "id": "27LK8OiEkGoT",
        "outputId": "19fa6cc5-825c-4b5e-dc72-b5d4cad90f10"
      },
      "execution_count": 73,
      "outputs": [
        {
          "output_type": "stream",
          "name": "stdout",
          "text": [
            "Resultados de GridSearchCV:\n",
            "   param_n_neighbors param_metric  mean_test_score  std_test_score\n",
            "0                  3    manhattan         0.823077        0.070115\n",
            "1                  7    manhattan         0.879487        0.066974\n",
            "2                 11    manhattan         0.807692        0.083383\n",
            "3                  3    euclidean         0.864103        0.069739\n",
            "4                  7    euclidean         0.871154        0.041390\n",
            "5                 11    euclidean         0.855769        0.061968\n",
            "\n",
            "Resultados del modelo con 3 vecinos y distancia Manhattan:\n",
            "   mean_test_score  std_test_score\n",
            "0         0.823077        0.070115\n",
            "\n",
            "Accuracy en el fold 8: 0.8333\n"
          ]
        }
      ]
    },
    {
      "cell_type": "markdown",
      "source": [
        "**Copilot Solución**"
      ],
      "metadata": {
        "id": "QerX1cd7Yyl3"
      }
    },
    {
      "cell_type": "code",
      "source": [
        "import pandas as pd\n",
        "from sklearn.model_selection import train_test_split, GridSearchCV\n",
        "from sklearn.neighbors import KNeighborsClassifier\n",
        "\n",
        "# 1. Carga el conjunto de datos y define los parámetros:\n",
        "data = pd.read_csv('/content/drive/MyDrive/Colab Notebooks/datasets/datos_entrenamiento_ssii (1).csv')\n",
        "X = data.drop('Clase', axis=1)\n",
        "y = data['Clase']\n",
        "\n",
        "param_grid = {\n",
        "    'n_neighbors': [3, 7, 11],  # Valores de vecinos\n",
        "    'p': [1, 2]  # Distancias Manhattan (1) y Euclídea (2)\n",
        "}\n",
        "\n",
        "# 2. Divide el conjunto de datos en entrenamiento y prueba:\n",
        "X_train, X_test, y_train, y_test = train_test_split(X, y, test_size=0.2, random_state=42, stratify=y)\n",
        "\n",
        "# 3. Crea un modelo KNN e inicializa GridSearchCV:\n",
        "knn_model = KNeighborsClassifier()\n",
        "grid_search = GridSearchCV(knn_model, param_grid, cv=10, scoring='accuracy')\n",
        "\n",
        "# 4. Entrena el modelo y observa los resultados:\n",
        "grid_search.fit(X_train, y_train.values.ravel())\n",
        "\n",
        "# 5. Encuentra el valor de la accuracy para la caja 8:\n",
        "results_df = pd.DataFrame(grid_search.cv_results_)\n",
        "accuracy_split8 = results_df[\n",
        "    (results_df['param_n_neighbors'] == 3) & (results_df['param_p'] == 1)\n",
        "]['split8_test_score'].values[0]\n",
        "\n",
        "print(f\"La accuracy en la caja 8 con 3 vecinos y distancia Manhattan es: {accuracy_split8:.2f}\")"
      ],
      "metadata": {
        "colab": {
          "base_uri": "https://localhost:8080/"
        },
        "id": "Fmx0BJtZOQqS",
        "outputId": "abf523bd-3b1d-4141-8fec-1abe0c397e2c"
      },
      "execution_count": 51,
      "outputs": [
        {
          "output_type": "stream",
          "name": "stdout",
          "text": [
            "La accuracy en la caja 8 con 3 vecinos y distancia Manhattan es: 0.80\n"
          ]
        }
      ]
    },
    {
      "cell_type": "markdown",
      "source": [
        "**NoteBook Solución**\n"
      ],
      "metadata": {
        "id": "B56d_ZZ4O744"
      }
    },
    {
      "cell_type": "code",
      "source": [
        "import pandas as pd\n",
        "from sklearn.model_selection import train_test_split, GridSearchCV\n",
        "from sklearn.neighbors import KNeighborsClassifier\n",
        "from sklearn.metrics import accuracy_score\n",
        "\n",
        "# 1. Carga el conjunto de datos y define los parámetros:\n",
        "data = pd.read_csv('/content/drive/MyDrive/Colab Notebooks/datasets/datos_entrenamiento_ssii (1).csv')\n",
        "X = data.drop('Clase', axis=1)\n",
        "y = data['Clase']\n",
        "\n",
        "param_grid = {\n",
        "    'n_neighbors': range(1,4),  # Ejemplo de valores válidos\n",
        "    'p': [1, 4, 5]  # Distancias Manhattan y Euclídea\n",
        "}\n",
        "\n",
        "# 2. Divide el conjunto de datos en entrenamiento y prueba:\n",
        "X_train, X_test, y_train, y_test = train_test_split(X, y, test_size=0.2, random_state=42, stratify=y)\n",
        "\n",
        "# 3. Crea un modelo KNN e inicializa GridSearchCV:\n",
        "knn_model = KNeighborsClassifier()\n",
        "grid_search = GridSearchCV(knn_model, param_grid, cv=10, scoring='accuracy')\n",
        "\n",
        "# 4. Entrena el modelo y observa los resultados:\n",
        "grid_search.fit(X_train, y_train.values.ravel())\n",
        "print(grid_search.cv_results_)\n",
        "\n",
        "# 5. Encuentra el valor de la accuracy para la caja 8:\n",
        "results_df = pd.DataFrame(grid_search.cv_results_)\n",
        "accuracy_split8 = results_df[\n",
        "    (results_df['param_n_neighbors'] == 3) & (results_df['param_p'] == 1)\n",
        "]['split8_test_score'].values\n",
        "\n",
        "print(f\"La accuracy en la caja 8 con 3 vecinos y distancia Manhattan es: {accuracy_split8}\")\n",
        "\n"
      ],
      "metadata": {
        "colab": {
          "base_uri": "https://localhost:8080/"
        },
        "id": "8CaHtrm1O91Y",
        "outputId": "7d269c92-a744-47a0-f5e7-9e59c8d4e0fb"
      },
      "execution_count": 24,
      "outputs": [
        {
          "output_type": "stream",
          "name": "stdout",
          "text": [
            "{'mean_fit_time': array([0.00200284, 0.00187595, 0.00195441, 0.0023396 , 0.00226429,\n",
            "       0.00199742, 0.0020313 , 0.00209563, 0.00224156]), 'std_fit_time': array([1.23204482e-04, 5.60315162e-05, 2.01912054e-04, 6.32475286e-04,\n",
            "       7.67925313e-04, 1.44497584e-04, 1.48635865e-04, 2.90543420e-04,\n",
            "       4.16299783e-04]), 'mean_score_time': array([0.00356731, 0.00396011, 0.00402815, 0.00450921, 0.00438499,\n",
            "       0.00408599, 0.00379322, 0.00434594, 0.00458481]), 'std_score_time': array([0.00017291, 0.00014073, 0.00045283, 0.00107665, 0.00073059,\n",
            "       0.00019599, 0.00025812, 0.00058594, 0.00084898]), 'param_n_neighbors': masked_array(data=[1, 1, 1, 2, 2, 2, 3, 3, 3],\n",
            "             mask=[False, False, False, False, False, False, False, False,\n",
            "                   False],\n",
            "       fill_value=999999), 'param_p': masked_array(data=[1, 4, 5, 1, 4, 5, 1, 4, 5],\n",
            "             mask=[False, False, False, False, False, False, False, False,\n",
            "                   False],\n",
            "       fill_value=999999), 'params': [{'n_neighbors': 1, 'p': 1}, {'n_neighbors': 1, 'p': 4}, {'n_neighbors': 1, 'p': 5}, {'n_neighbors': 2, 'p': 1}, {'n_neighbors': 2, 'p': 4}, {'n_neighbors': 2, 'p': 5}, {'n_neighbors': 3, 'p': 1}, {'n_neighbors': 3, 'p': 4}, {'n_neighbors': 3, 'p': 5}], 'split0_test_score': array([0.8, 0.9, 0.9, 0.9, 1. , 1. , 0.9, 0.9, 0.9]), 'split1_test_score': array([0.8, 0.9, 0.9, 0.8, 1. , 1. , 0.9, 0.9, 1. ]), 'split2_test_score': array([1. , 1. , 1. , 0.9, 0.9, 0.9, 0.9, 0.9, 0.9]), 'split3_test_score': array([0.8, 0.9, 0.9, 0.8, 0.9, 0.9, 0.8, 0.8, 0.7]), 'split4_test_score': array([0.7, 0.6, 0.6, 0.8, 0.7, 0.7, 0.8, 0.8, 0.8]), 'split5_test_score': array([0.9, 0.8, 0.8, 0.9, 0.9, 0.8, 0.9, 0.8, 0.9]), 'split6_test_score': array([0.8, 0.9, 0.9, 0.9, 0.8, 0.9, 0.8, 0.8, 0.8]), 'split7_test_score': array([0.9, 0.7, 0.7, 1. , 0.9, 0.9, 1. , 0.9, 0.9]), 'split8_test_score': array([0.6, 0.8, 0.8, 0.7, 0.7, 0.7, 0.8, 0.8, 0.8]), 'split9_test_score': array([0.8, 0.8, 0.8, 0.8, 0.9, 0.9, 0.8, 0.8, 0.8]), 'mean_test_score': array([0.81, 0.83, 0.83, 0.85, 0.87, 0.87, 0.86, 0.84, 0.85]), 'std_test_score': array([0.10440307, 0.11      , 0.11      , 0.08062258, 0.10049876,\n",
            "       0.10049876, 0.0663325 , 0.04898979, 0.08062258]), 'rank_test_score': array([9, 7, 7, 4, 1, 1, 3, 6, 4], dtype=int32)}\n",
            "La accuracy en la caja 8 con 3 vecinos y distancia Manhattan es: [0.8]\n"
          ]
        }
      ]
    },
    {
      "cell_type": "markdown",
      "source": [
        "**Gemini solución**"
      ],
      "metadata": {
        "id": "jFKyeNM7PV7Y"
      }
    },
    {
      "cell_type": "code",
      "source": [
        "import pandas as pd\n",
        "from sklearn.model_selection import train_test_split, GridSearchCV\n",
        "from sklearn.neighbors import KNeighborsClassifier\n",
        "from sklearn.preprocessing import StandardScaler  # Para escalar los datos si es necesario\n",
        "\n",
        "# Cargar los datos\n",
        "data = pd.read_csv('/content/drive/MyDrive/Colab Notebooks/datasets/datos_entrenamiento_ssii (1).csv')\n",
        "\n",
        "# Separar las características (X) y la variable objetivo (y)\n",
        "X = data.drop('Clase', axis=1)\n",
        "y = data['Clase']\n",
        "\n",
        "# Escalar los datos (opcional, si las características tienen escalas muy diferentes)\n",
        "scaler = StandardScaler()\n",
        "X = scaler.fit_transform(X)\n",
        "\n",
        "# Definir los parámetros a probar\n",
        "param_grid = {\n",
        "    'n_neighbors': [3, 7, 11],\n",
        "    'metric': ['manhattan', 'euclidean']\n",
        "}\n",
        "\n",
        "# Fijar la semilla aleatoria para reproducibilidad\n",
        "random_state = 42\n",
        "\n",
        "# Mezclar los datos aleatoriamente\n",
        "data = data.sample(frac=1, random_state=random_state)\n",
        "\n",
        "# Dividir el conjunto de datos en entrenamiento y prueba (opcional, si quieres evaluar en un conjunto de prueba independiente)\n",
        "X_train, X_test, y_train, y_test = train_test_split(X, y, test_size=0.2, random_state=random_state, stratify=y)\n",
        "\n",
        "# Crear el modelo KNN\n",
        "knn = KNeighborsClassifier()\n",
        "\n",
        "# Utilizar GridSearchCV con 10-fold cross-validation\n",
        "grid_search = GridSearchCV(knn, param_grid, cv=10, scoring='accuracy')\n",
        "grid_search.fit(X_train, y_train)\n",
        "\n",
        "# Obtener los resultados\n",
        "results = pd.DataFrame(grid_search.cv_results_)\n",
        "\n",
        "# Encontrar la accuracy para 3 vecinos y distancia Manhattan en la caja 8\n",
        "accuracy_caja8 = results[(results['param_n_neighbors'] == 3) &\n",
        "                         (results['param_metric'] == 'manhattan')]['split8_test_score'].values[0]\n",
        "\n",
        "print(f\"Accuracy para 3 vecinos y distancia Manhattan en la caja 8: {accuracy_caja8}\")\n",
        "\n",
        "# Evaluar en el conjunto de prueba (opcional)\n",
        "if X_test is not None:\n",
        "    y_pred = grid_search.best_estimator_.predict(X_test)\n",
        "    print(f\"Accuracy en el conjunto de prueba: {accuracy_score(y_test, y_pred)}\")"
      ],
      "metadata": {
        "colab": {
          "base_uri": "https://localhost:8080/"
        },
        "id": "tE_IJs-8PYkH",
        "outputId": "1326146c-34e0-4664-973b-4e1538dd8fbc"
      },
      "execution_count": 32,
      "outputs": [
        {
          "output_type": "stream",
          "name": "stdout",
          "text": [
            "Accuracy para 3 vecinos y distancia Manhattan en la caja 8: 0.8\n",
            "Accuracy en el conjunto de prueba: 0.8\n"
          ]
        }
      ]
    },
    {
      "cell_type": "markdown",
      "source": [
        "**Solución Otra**"
      ],
      "metadata": {
        "id": "paXS8ClmQn0d"
      }
    },
    {
      "cell_type": "code",
      "source": [
        "data = pd.read_csv('/content/drive/MyDrive/Colab Notebooks/datasets/datos_entrenamiento_ssii (1).csv')\n",
        "X = df.drop('Clase', axis = 1)\n",
        "y = df['Clase']\n",
        "param_grid = {\n",
        "    'n_neighbors': [3],\n",
        "    'p': [1]\n",
        "}\n",
        "model = KNeighborsClassifier()\n",
        "X_train, X_test, y_train, y_test = train_test_split(X, y,\n",
        "test_size=0.2, random_state=42, stratify=y)\n",
        "grid_search = GridSearchCV(model, param_grid, cv=10,\n",
        "scoring='accuracy')\n",
        "grid_search.fit(X, y.values.ravel())\n",
        "print(grid_search.cv_results_)\n"
      ],
      "metadata": {
        "colab": {
          "base_uri": "https://localhost:8080/"
        },
        "id": "xrl8eBcJQqj9",
        "outputId": "49eaf39c-d6a7-4d05-d5c3-4ea162f5842b"
      },
      "execution_count": 7,
      "outputs": [
        {
          "output_type": "stream",
          "name": "stdout",
          "text": [
            "{'mean_fit_time': array([0.00638545]), 'std_fit_time': array([0.00298493]), 'mean_score_time': array([0.01353161]), 'std_score_time': array([0.00604712]), 'param_n_neighbors': masked_array(data=[3],\n",
            "             mask=[False],\n",
            "       fill_value=999999), 'param_p': masked_array(data=[1],\n",
            "             mask=[False],\n",
            "       fill_value=999999), 'params': [{'n_neighbors': 3, 'p': 1}], 'split0_test_score': array([0.76923077]), 'split1_test_score': array([0.69230769]), 'split2_test_score': array([0.69230769]), 'split3_test_score': array([0.84615385]), 'split4_test_score': array([1.]), 'split5_test_score': array([1.]), 'split6_test_score': array([0.75]), 'split7_test_score': array([0.83333333]), 'split8_test_score': array([1.]), 'split9_test_score': array([0.66666667]), 'mean_test_score': array([0.825]), 'std_test_score': array([0.12704766]), 'rank_test_score': array([1], dtype=int32)}\n"
          ]
        }
      ]
    },
    {
      "cell_type": "markdown",
      "source": [
        "## 2. Ejemplo\n",
        "En este ejercicio se proporciona el conjunto de datos de\n",
        "entrenamiento datos_entrenamiento_ssii.csv sobre el cual\n",
        "ya se han aplicado todas las fases de preprocesamiento\n",
        "necesarias. Utiliza este conjunto de datos para entrenar\n",
        "modelos usando el algoritmo de los vecinos de cercanos\n",
        "probando distintas combinaciones de números de vecinos\n",
        "y distancias. En concreto, prueba todas las posibles\n",
        "combinaciones formadas con los números de vecinos 3, 7,\n",
        "y 11 y las distancias Manhattan y Euclídea. Para cada\n",
        "combinación de parámetros utiliza GridSearchCV para\n",
        "obtener los resultados de la accuracy en validación cruzada\n",
        "empleando 10 cajas. Observa los resultados del modelo\n",
        "entrenado con 7 vecinos y la distancia Manhattan: ¿Cuál es\n",
        "el valor de la accuracy obtenida al validar el modelo\n",
        "utilizando la caja con id 4 y el resto de cajas para entrenar?"
      ],
      "metadata": {
        "id": "MCRYrTgXabwD"
      }
    },
    {
      "cell_type": "markdown",
      "source": [
        "**Copilot Solución**"
      ],
      "metadata": {
        "id": "8o5w9AKia3UR"
      }
    },
    {
      "cell_type": "code",
      "source": [
        "import pandas as pd\n",
        "from sklearn.model_selection import GridSearchCV\n",
        "from sklearn.neighbors import KNeighborsClassifier\n",
        "\n",
        "# Cargar los datos\n",
        "df = pd.read_csv('/content/drive/MyDrive/Colab Notebooks/datasets/datos_entrenamiento_ssii (1).csv')\n",
        "\n",
        "# Separar las características de la etiqueta\n",
        "X = df.drop('Clase', axis=1)\n",
        "y = df['Clase']\n",
        "\n",
        "# Definir los parámetros para GridSearchCV\n",
        "param_grid = {\n",
        "    'n_neighbors': [3, 7, 11],\n",
        "    'p': [1, 2]  # 1 para Manhattan, 2 para Euclídea\n",
        "}\n",
        "\n",
        "# Crear el modelo KNN\n",
        "model = KNeighborsClassifier()\n",
        "\n",
        "# Configurar GridSearchCV con validación cruzada de 10 folds\n",
        "grid_search = GridSearchCV(model, param_grid, cv=10, scoring='accuracy')\n",
        "\n",
        "# Entrenar el modelo\n",
        "grid_search.fit(X, y)\n",
        "\n",
        "# Obtener los resultados de la validación cruzada\n",
        "results = grid_search.cv_results_\n",
        "\n",
        "# Convert the results to a pandas DataFrame for easier indexing\n",
        "results_df = pd.DataFrame(results)\n",
        "\n",
        "# Obtener el valor de la accuracy para el modelo con 7 vecinos y distancia Manhattan en la caja con id 4\n",
        "split4_test_score = results_df.loc[\n",
        "    (results_df['param_n_neighbors'] == 7) & (results_df['param_p'] == 1),\n",
        "    'split4_test_score'\n",
        "].values[0]\n",
        "\n",
        "print(f\"Accuracy en la caja con id 4 para 7 vecinos y distancia Manhattan: {split4_test_score}\")"
      ],
      "metadata": {
        "colab": {
          "base_uri": "https://localhost:8080/"
        },
        "id": "klkT814gbTIG",
        "outputId": "621796b0-a291-48e3-971c-7d7e19aff729"
      },
      "execution_count": 59,
      "outputs": [
        {
          "output_type": "stream",
          "name": "stdout",
          "text": [
            "Accuracy en la caja con id 4 para 7 vecinos y distancia Manhattan: 1.0\n"
          ]
        }
      ]
    },
    {
      "cell_type": "markdown",
      "source": [
        "**Solución Gemini**"
      ],
      "metadata": {
        "id": "IPsmjnuVbWE5"
      }
    },
    {
      "cell_type": "code",
      "source": [
        "import pandas as pd\n",
        "from sklearn.model_selection import train_test_split, GridSearchCV\n",
        "from sklearn.neighbors import KNeighborsClassifier\n",
        "from sklearn.preprocessing import StandardScaler\n",
        "\n",
        "# Cargar los datos\n",
        "data = pd.read_csv('/content/drive/MyDrive/Colab Notebooks/datasets/datos_entrenamiento_ssii (1).csv')\n",
        "\n",
        "# Separar las características (X) y la variable objetivo (y)\n",
        "X = data.drop('Clase', axis=1)  # Suponiendo que la columna objetivo se llama 'Clase'\n",
        "y = data['Clase']\n",
        "\n",
        "# Escalar los datos (opcional, si las características tienen escalas muy diferentes)\n",
        "scaler = StandardScaler()\n",
        "X = scaler.fit_transform(X)\n",
        "\n",
        "# Definir los parámetros a probar\n",
        "param_grid = {\n",
        "    'n_neighbors': [3, 7, 11],\n",
        "    'metric': ['manhattan', 'euclidean']\n",
        "}\n",
        "\n",
        "# Fijar la semilla aleatoria para reproducibilidad\n",
        "random_state = 42\n",
        "\n",
        "# Mezclar los datos aleatoriamente\n",
        "data = data.sample(frac=1, random_state=random_state)\n",
        "\n",
        "# Crear el modelo KNN\n",
        "knn = KNeighborsClassifier()\n",
        "\n",
        "# Utilizar GridSearchCV con 10-fold cross-validation\n",
        "grid_search = GridSearchCV(knn, param_grid, cv=10, scoring='accuracy')\n",
        "grid_search.fit(X, y)\n",
        "\n",
        "# Obtener los resultados\n",
        "results = pd.DataFrame(grid_search.cv_results_)\n",
        "\n",
        "# Encontrar la accuracy para 7 vecinos y distancia Manhattan en la caja 4\n",
        "accuracy_caja4 = results[(results['param_n_neighbors'] == 7) &\n",
        "                         (results['param_metric'] == 'manhattan')]['split4_test_score'].values[0]  # split3 corresponde a la caja 4\n",
        "\n",
        "print(f\"Accuracy para 7 vecinos y distancia Manhattan en la caja 4: {accuracy_caja4}\")"
      ],
      "metadata": {
        "colab": {
          "base_uri": "https://localhost:8080/"
        },
        "id": "opHjdiX9bcTB",
        "outputId": "9dc2b9bd-4673-415f-8395-ee779852ba63"
      },
      "execution_count": 60,
      "outputs": [
        {
          "output_type": "stream",
          "name": "stdout",
          "text": [
            "Accuracy para 7 vecinos y distancia Manhattan en la caja 4: 1.0\n"
          ]
        }
      ]
    },
    {
      "cell_type": "markdown",
      "source": [
        "**Solución notebook**"
      ],
      "metadata": {
        "id": "cY1KdloBbmgh"
      }
    },
    {
      "cell_type": "code",
      "source": [
        "import pandas as pd\n",
        "from sklearn.model_selection import train_test_split, GridSearchCV\n",
        "from sklearn.neighbors import KNeighborsClassifier\n",
        "from sklearn.metrics import accuracy_score\n",
        "\n",
        "# 1. Carga el conjunto de datos y define los parámetros:\n",
        "data = pd.read_csv('/content/drive/MyDrive/Colab Notebooks/datasets/datos_entrenamiento_ssii (1).csv')\n",
        "\n",
        "# 2. Separar las características de la etiqueta\n",
        "X = df.drop('Clase', axis=1)\n",
        "y = df['Clase']\n",
        "\n",
        "# 3. Definir los parámetros para GridSearchCV\n",
        "param_grid = {\n",
        "    'n_neighbors': [1, 3, 7],\n",
        "    'p': [1, 2]  # 1 para Manhattan\n",
        "}\n",
        "\n",
        "# 4. Crear el modelo KNN\n",
        "model = KNeighborsClassifier()\n",
        "\n",
        "# 5. Configurar GridSearchCV con validación cruzada de 10 folds\n",
        "grid_search = GridSearchCV(model, param_grid, cv=10, scoring='accuracy')\n",
        "\n",
        "# 6. Entrenar el modelo\n",
        "grid_search.fit(X, y)\n",
        "\n",
        "# 7. Obtener los resultados de la validación cruzada\n",
        "results = grid_search.cv_results_\n",
        "\n",
        "# 8. Convertir los resultados a un DataFrame de pandas\n",
        "results_df = pd.DataFrame(results)\n",
        "\n",
        "# 9. Obtener el valor de la accuracy para la caja con id 4\n",
        "split4_test_score = results_df['split4_test_score'].values\n",
        "\n",
        "print(f\"Accuracy en la caja con id 4 para 7 vecinos y distancia Manhattan: {split4_test_score}\")"
      ],
      "metadata": {
        "colab": {
          "base_uri": "https://localhost:8080/"
        },
        "id": "NRCY994hbzhJ",
        "outputId": "ebf3d03d-a196-4d6f-8a7f-c84ca69d016f"
      },
      "execution_count": 71,
      "outputs": [
        {
          "output_type": "stream",
          "name": "stdout",
          "text": [
            "Accuracy en la caja con id 4 para 7 vecinos y distancia Manhattan: [0.92307692 0.84615385 1.         1.         1.         1.        ]\n"
          ]
        }
      ]
    },
    {
      "cell_type": "markdown",
      "source": [
        "**ChatGPT Solución**"
      ],
      "metadata": {
        "id": "Q5V6Bgjplbev"
      }
    },
    {
      "cell_type": "code",
      "source": [
        "import pandas as pd\n",
        "from sklearn.model_selection import GridSearchCV\n",
        "from sklearn.neighbors import KNeighborsClassifier\n",
        "from sklearn.preprocessing import StandardScaler\n",
        "\n",
        "# Cargar los datos\n",
        "data = pd.read_csv('/content/drive/MyDrive/Colab Notebooks/datasets/datos_entrenamiento_ssii (1).csv')\n",
        "\n",
        "# Separar características (X) y etiquetas (y)\n",
        "X = df.drop(\"Clase\", axis=1)  # Cambia 'Clase' por el nombre real de la columna objetivo\n",
        "y = df[\"Clase\"]\n",
        "\n",
        "# Escalar características (opcional, útil si las variables tienen escalas distintas)\n",
        "scaler = StandardScaler()\n",
        "X_scaled = scaler.fit_transform(X)\n",
        "\n",
        "# Definir los parámetros para GridSearchCV\n",
        "param_grid = {\n",
        "    \"n_neighbors\": [3, 7, 11],  # Vecinos\n",
        "    \"metric\": [\"manhattan\", \"euclidean\"],  # Distancias\n",
        "}\n",
        "\n",
        "# Crear el modelo KNN\n",
        "knn = KNeighborsClassifier()\n",
        "\n",
        "# Configurar GridSearchCV con validación cruzada de 10 folds\n",
        "grid_search = GridSearchCV(knn, param_grid, cv=10, scoring=\"accuracy\", return_train_score=True)\n",
        "grid_search.fit(X_scaled, y)\n",
        "\n",
        "# Convertir resultados a DataFrame\n",
        "results = pd.DataFrame(grid_search.cv_results_)\n",
        "\n",
        "# Crear una tabla con las métricas principales\n",
        "summary_table = results[[\n",
        "    \"param_n_neighbors\", \"param_metric\", \"mean_test_score\", \"std_test_score\"\n",
        "]].sort_values(by=\"mean_test_score\", ascending=False)\n",
        "\n",
        "# Mostrar la tabla general\n",
        "print(\"Resultados de GridSearchCV:\")\n",
        "print(summary_table)\n",
        "\n",
        "# Filtrar resultados del modelo específico: 7 vecinos y distancia Manhattan\n",
        "specific_model = summary_table[\n",
        "    (results[\"param_n_neighbors\"] == 7) & (results[\"param_metric\"] == \"manhattan\")\n",
        "]\n",
        "\n",
        "print(\"\\nResultados del modelo con 7 vecinos y distancia Manhattan:\")\n",
        "print(specific_model[[\"mean_test_score\", \"std_test_score\"]])\n",
        "\n",
        "# Obtener la accuracy específica para el fold 4\n",
        "accuracy_caja4 = results.loc[\n",
        "    (results[\"param_n_neighbors\"] == 7) & (results[\"param_metric\"] == \"manhattan\"),\n",
        "    \"split4_test_score\"\n",
        "].values[0]\n",
        "\n",
        "# Mostrar el resultado específico\n",
        "print(f\"\\nAccuracy en el fold 4: {accuracy_caja4:.4f}\")\n"
      ],
      "metadata": {
        "colab": {
          "base_uri": "https://localhost:8080/"
        },
        "id": "_edMYhJxleWP",
        "outputId": "1ff7ffc3-5303-44b4-8155-09bfd7bbcfb6"
      },
      "execution_count": 69,
      "outputs": [
        {
          "output_type": "stream",
          "name": "stdout",
          "text": [
            "Resultados de GridSearchCV:\n",
            "   param_n_neighbors param_metric  mean_test_score  std_test_score\n",
            "1                  7    manhattan         0.848077        0.103165\n",
            "5                 11    euclidean         0.823718        0.155658\n",
            "2                 11    manhattan         0.815385        0.137598\n",
            "4                  7    euclidean         0.808333        0.124017\n",
            "3                  3    euclidean         0.791026        0.142394\n",
            "0                  3    manhattan         0.761538        0.154959\n",
            "\n",
            "Resultados del modelo con 7 vecinos y distancia Manhattan:\n",
            "   mean_test_score  std_test_score\n",
            "1         0.848077        0.103165\n",
            "\n",
            "Accuracy en el fold 4: 1.0000\n"
          ]
        },
        {
          "output_type": "stream",
          "name": "stderr",
          "text": [
            "<ipython-input-69-129dfb902da8>:43: UserWarning: Boolean Series key will be reindexed to match DataFrame index.\n",
            "  specific_model = summary_table[\n"
          ]
        }
      ]
    }
  ]
}
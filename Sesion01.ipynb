{
  "nbformat": 4,
  "nbformat_minor": 0,
  "metadata": {
    "colab": {
      "provenance": [],
      "mount_file_id": "1ENShwAw_gDIXZo87rmR4ew4UX4F_wY5w",
      "authorship_tag": "ABX9TyOz7uQjYlbzni/10TvxAOyl",
      "include_colab_link": true
    },
    "kernelspec": {
      "name": "python3",
      "display_name": "Python 3"
    },
    "language_info": {
      "name": "python"
    }
  },
  "cells": [
    {
      "cell_type": "markdown",
      "metadata": {
        "id": "view-in-github",
        "colab_type": "text"
      },
      "source": [
        "<a href=\"https://colab.research.google.com/github/giramos/Machine-Learning/blob/master/Sesion01.ipynb\" target=\"_parent\"><img src=\"https://colab.research.google.com/assets/colab-badge.svg\" alt=\"Open In Colab\"/></a>"
      ]
    },
    {
      "cell_type": "markdown",
      "source": [
        "# Aprendizaje automático - Sesión 01\n",
        "## 1 - Algoritmos vecinos más cercanos\n",
        "\n",
        "¿Cuádo nos puede resultar útil k-nn?"
      ],
      "metadata": {
        "id": "x3UtJRuYV_mV"
      }
    },
    {
      "cell_type": "code",
      "source": [
        "import pandas as pd\n",
        "import numpy as np\n",
        "\n",
        "df = pd.read_csv(\"/content/drive/MyDrive/Colab Notebooks/datasets/datos01_train.csv\")"
      ],
      "metadata": {
        "id": "aS9J0Ew5WL80"
      },
      "execution_count": 8,
      "outputs": []
    }
  ]
}